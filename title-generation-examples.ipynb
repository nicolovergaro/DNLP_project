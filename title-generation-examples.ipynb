{
    "cells": [
        {
            "cell_type": "code",
            "execution_count": null,
            "metadata": {
                "execution": {
                    "iopub.execute_input": "2023-01-13T13:09:48.706724Z",
                    "iopub.status.busy": "2023-01-13T13:09:48.706019Z",
                    "iopub.status.idle": "2023-01-13T13:10:09.175038Z",
                    "shell.execute_reply": "2023-01-13T13:10:09.173879Z",
                    "shell.execute_reply.started": "2023-01-13T13:09:48.706671Z"
                },
                "scrolled": true,
                "trusted": true
            },
            "outputs": [],
            "source": [
                "!pip install -r requirements.txt"
            ]
        },
        {
            "cell_type": "markdown",
            "metadata": {},
            "source": [
                "# Training example on AI"
            ]
        },
        {
            "cell_type": "code",
            "execution_count": 6,
            "metadata": {
                "execution": {
                    "iopub.execute_input": "2023-01-13T11:13:16.302443Z",
                    "iopub.status.busy": "2023-01-13T11:13:16.301724Z",
                    "iopub.status.idle": "2023-01-13T11:13:22.679283Z",
                    "shell.execute_reply": "2023-01-13T11:13:22.678257Z",
                    "shell.execute_reply.started": "2023-01-13T11:13:16.302402Z"
                },
                "scrolled": true,
                "trusted": true
            },
            "outputs": [],
            "source": [
                "from TitleGenerator import TitleGenerator\n",
                "\n",
                "tg = TitleGenerator(model_name=\"pietrocagnasso/bart-paper-titles-ai\")"
            ]
        },
        {
            "cell_type": "code",
            "execution_count": null,
            "metadata": {
                "execution": {
                    "iopub.execute_input": "2023-01-13T11:13:27.306307Z",
                    "iopub.status.busy": "2023-01-13T11:13:27.305915Z",
                    "iopub.status.idle": "2023-01-13T11:16:18.916951Z",
                    "shell.execute_reply": "2023-01-13T11:16:18.915875Z",
                    "shell.execute_reply.started": "2023-01-13T11:13:27.306273Z"
                },
                "trusted": true
            },
            "outputs": [],
            "source": [
                "tg.train(train_ds_json=\"/kaggle/working/DNLP_project/microAIPubSumm_train.json\",\n",
                "         test_ds_json=\"/kaggle/working/DNLP_project/microAIPubSumm_test.json\")"
            ]
        },
        {
            "cell_type": "markdown",
            "metadata": {},
            "source": [
                "# Single title generator"
            ]
        },
        {
            "cell_type": "code",
            "execution_count": null,
            "metadata": {
                "execution": {
                    "iopub.execute_input": "2023-01-13T11:23:56.583936Z",
                    "iopub.status.busy": "2023-01-13T11:23:56.583487Z",
                    "iopub.status.idle": "2023-01-13T11:26:22.460328Z",
                    "shell.execute_reply": "2023-01-13T11:26:22.459239Z",
                    "shell.execute_reply.started": "2023-01-13T11:23:56.583895Z"
                },
                "trusted": true
            },
            "outputs": [],
            "source": [
                "from TitleGenerator import TitleGenerator\n",
                "\n",
                "tg = TitleGenerator()"
            ]
        },
        {
            "cell_type": "code",
            "execution_count": 6,
            "metadata": {
                "execution": {
                    "iopub.execute_input": "2023-01-13T11:20:24.059865Z",
                    "iopub.status.busy": "2023-01-13T11:20:24.059153Z",
                    "iopub.status.idle": "2023-01-13T11:20:25.281319Z",
                    "shell.execute_reply": "2023-01-13T11:20:25.279452Z",
                    "shell.execute_reply.started": "2023-01-13T11:20:24.059821Z"
                },
                "trusted": true
            },
            "outputs": [
                {
                    "name": "stdout",
                    "output_type": "stream",
                    "text": [
                        "A Transformer-based Highlights Extractor (THExt)\n"
                    ]
                }
            ],
            "source": [
                "highlights = [\"We propose a novel Transformer-based Highlights Extractor (THExt, in short).\",\n",
                "             \"We achieve performance superior to state-of-the-art highlights extraction methods on three benchmark datasets.\"]\n",
                "abstract = \"Highlights are short sentences used to annotate scientific papers. They complement the abstract content by conveying the main result findings. To automate the process of paper annotation, highlights extraction aims at extracting from 3 to 5 paper sentences via supervised learning. Existing approaches rely on ad hoc linguistic features, which depend on the analyzed context, and apply recurrent neural networks, which are not effective in learning long-range text dependencies. This paper leverages the attention mechanism adopted in transformer models to improve the accuracy of sentence relevance estimation. Unlike existing approaches, it relies on the end-to-end training of a deep regression model. To attend patterns relevant to highlights content it also enriches sentence encodings with a section-level contextualization. The experimental results, achieved on three different benchmark datasets, show that the designed architecture is able to achieve significant performance improvements compared to the state-of-the-art. </s>\"\n",
                "\n",
                "print(tg.generate_title(highlights, abstract))  # true title: Transformer-based highlights extraction from scientific papers"
            ]
        },
        {
            "cell_type": "markdown",
            "metadata": {},
            "source": [
                "# Model evaluation on a dataset"
            ]
        },
        {
            "cell_type": "code",
            "execution_count": null,
            "metadata": {
                "execution": {
                    "iopub.execute_input": "2023-01-13T13:10:44.588005Z",
                    "iopub.status.busy": "2023-01-13T13:10:44.587618Z",
                    "iopub.status.idle": "2023-01-13T13:11:40.127350Z",
                    "shell.execute_reply": "2023-01-13T13:11:40.126235Z",
                    "shell.execute_reply.started": "2023-01-13T13:10:44.587974Z"
                },
                "scrolled": true,
                "trusted": true
            },
            "outputs": [],
            "source": [
                "from TitleGenerator import TitleGenerator\n",
                "\n",
                "tg = TitleGenerator(model_name=\"pietrocagnasso/bart-paper-titles-cs\")"
            ]
        },
        {
            "cell_type": "code",
            "execution_count": 7,
            "metadata": {
                "execution": {
                    "iopub.execute_input": "2023-01-13T13:11:55.758753Z",
                    "iopub.status.busy": "2023-01-13T13:11:55.758052Z",
                    "iopub.status.idle": "2023-01-13T13:12:59.892066Z",
                    "shell.execute_reply": "2023-01-13T13:12:59.890989Z",
                    "shell.execute_reply.started": "2023-01-13T13:11:55.758710Z"
                },
                "trusted": true
            },
            "outputs": [
                {
                    "data": {
                        "application/vnd.jupyter.widget-view+json": {
                            "model_id": "2dbabb8a70e2406f9b2884dc26f47c5a",
                            "version_major": 2,
                            "version_minor": 0
                        },
                        "text/plain": [
                            "Downloading builder script:   0%|          | 0.00/7.95k [00:00<?, ?B/s]"
                        ]
                    },
                    "metadata": {},
                    "output_type": "display_data"
                },
                {
                    "name": "stdout",
                    "output_type": "stream",
                    "text": [
                        "--- PREDICTING TITLES ---\n"
                    ]
                },
                {
                    "name": "stderr",
                    "output_type": "stream",
                    "text": [
                        "100%|██████████| 10/10 [00:21<00:00,  2.11s/it]\n"
                    ]
                },
                {
                    "name": "stdout",
                    "output_type": "stream",
                    "text": [
                        "{'F@rouge1': 0.5584201740488969, 'F@rouge2': 0.3817657754374963, 'F@rougel': 0.501169632070814, 'F@bertscore': 0.9232878919442494}\n"
                    ]
                }
            ],
            "source": [
                "print(tg.evaluate_on_dataset(\"microCSPubSumm_test.json\", batch_size=16))"
            ]
        }
    ],
    "metadata": {
        "kernelspec": {
            "display_name": "Python 3",
            "language": "python",
            "name": "python3"
        },
        "language_info": {
            "codemirror_mode": {
                "name": "ipython",
                "version": 3
            },
            "file_extension": ".py",
            "mimetype": "text/x-python",
            "name": "python",
            "nbconvert_exporter": "python",
            "pygments_lexer": "ipython3",
            "version": "3.7.12"
        }
    },
    "nbformat": 4,
    "nbformat_minor": 4
}