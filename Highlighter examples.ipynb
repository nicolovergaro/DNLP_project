{
    "cells": [
        {
            "cell_type": "code",
            "execution_count": null,
            "metadata": {
                "execution": {
                    "iopub.execute_input": "2023-02-13T12:58:05.566499Z",
                    "iopub.status.busy": "2023-02-13T12:58:05.566168Z",
                    "iopub.status.idle": "2023-02-13T12:59:53.273068Z",
                    "shell.execute_reply": "2023-02-13T12:59:53.271889Z",
                    "shell.execute_reply.started": "2023-02-13T12:58:05.566472Z"
                },
                "scrolled": true,
                "trusted": true
            },
            "outputs": [],
            "source": [
                "!pip install -r requirements.txt"
            ]
        },
        {
            "cell_type": "markdown",
            "metadata": {},
            "source": [
                "# Train a model starting from THExt"
            ]
        },
        {
            "cell_type": "code",
            "execution_count": null,
            "metadata": {
                "execution": {
                    "iopub.execute_input": "2023-02-13T11:33:41.883017Z",
                    "iopub.status.busy": "2023-02-13T11:33:41.882634Z",
                    "iopub.status.idle": "2023-02-13T11:33:51.836848Z",
                    "shell.execute_reply": "2023-02-13T11:33:51.835486Z",
                    "shell.execute_reply.started": "2023-02-13T11:33:41.882984Z"
                },
                "trusted": true
            },
            "outputs": [],
            "source": [
                "from Highlighter import Highlighter\n",
                "\n",
                "h = Highlighter(model_name=\"morenolq/thext-ai-scibert\")"
            ]
        },
        {
            "cell_type": "code",
            "execution_count": null,
            "metadata": {
                "execution": {
                    "iopub.execute_input": "2023-02-13T11:33:51.840157Z",
                    "iopub.status.busy": "2023-02-13T11:33:51.839478Z",
                    "iopub.status.idle": "2023-02-13T11:36:26.928251Z",
                    "shell.execute_reply": "2023-02-13T11:36:26.926442Z",
                    "shell.execute_reply.started": "2023-02-13T11:33:51.840115Z"
                },
                "trusted": true
            },
            "outputs": [],
            "source": [
                "h.train(file=\"/kaggle/input/pubsummprepared/ai_train.json\",\n",
                "        contributions_file=\"/kaggle/input/pubsummprepared/contributions.json\",\n",
                "        distributions_file=\"/kaggle/input/pubsummprepared/distributions.json\",\n",
                "        topic=\"AI\",\n",
                "        policy=\"best\",\n",
                "        seed=0)"
            ]
        },
        {
            "cell_type": "markdown",
            "metadata": {},
            "source": [
                "# Extract highlights from a simple set"
            ]
        },
        {
            "cell_type": "code",
            "execution_count": null,
            "metadata": {
                "execution": {
                    "iopub.execute_input": "2023-02-13T11:59:53.371689Z",
                    "iopub.status.busy": "2023-02-13T11:59:53.371317Z",
                    "iopub.status.idle": "2023-02-13T12:00:34.294193Z",
                    "shell.execute_reply": "2023-02-13T12:00:34.293130Z",
                    "shell.execute_reply.started": "2023-02-13T11:59:53.371656Z"
                },
                "trusted": true
            },
            "outputs": [],
            "source": [
                "from Highlighter import Highlighter\n",
                "\n",
                "h = Highlighter(model_name=\"pietrocagnasso/thext-pce-cs\")"
            ]
        },
        {
            "cell_type": "code",
            "execution_count": null,
            "metadata": {
                "execution": {
                    "iopub.execute_input": "2023-02-13T12:00:54.084310Z",
                    "iopub.status.busy": "2023-02-13T12:00:54.083594Z",
                    "iopub.status.idle": "2023-02-13T12:00:55.518507Z",
                    "shell.execute_reply": "2023-02-13T12:00:55.517165Z",
                    "shell.execute_reply.started": "2023-02-13T12:00:54.084271Z"
                },
                "trusted": true
            },
            "outputs": [
                {
                    "name": "stdout",
                    "output_type": "stream",
                    "text": [
                        "--- EXTRACTING HIGHLIGHTS ---\n"
                    ]
                },
                {
                    "name": "stderr",
                    "output_type": "stream",
                    "text": [
                        "100%|██████████| 3/3 [00:01<00:00,  2.15it/s]\n"
                    ]
                },
                {
                    "data": {
                        "text/plain": [
                            "['Changes in muscle activity during on-road cycling were quantified each time a participant rode a bicycle.',\n",
                            " 'This study used percentage deviation in MPF and RMS to significantly differentiate the muscle activity before and after 30\\xa0min of cycling; slope of MPF and RMS to significantly evaluate the fatigue rate during on-road cycling on the three different bicycle designs.',\n",
                            " 'These significant differences among the three bicycle designs have been demonstrated by means of MVC test before and after cycling and real-time monitoring of muscle activity during on-road cycling.']"
                        ]
                    },
                    "execution_count": 5,
                    "metadata": {},
                    "output_type": "execute_result"
                }
            ],
            "source": [
                "sentences = [\"This study used percentage deviation in MPF and RMS to significantly differentiate the muscle activity before and after 30\\u00a0min of cycling; slope of MPF and RMS to significantly evaluate the fatigue rate during on-road cycling on the three different bicycle designs.\",\n",
                "             \"Hence, present study considered the physiological responses (sEMG activity) of cyclists riding on three bicycle designs.\",\n",
                "             \"The results suggested that there is higher muscle fatigue in low back pain group when compared to their cohorts.\",\n",
                "             \"Changes in muscle activity during on-road cycling were quantified each time a participant rode a bicycle.\",\n",
                "             \"This study helps to understand the variation of muscle activity caused by the mechanical factors of bicycle design.\",\n",
                "             \"These significant differences among the three bicycle designs have been demonstrated by means of MVC test before and after cycling and real-time monitoring of muscle activity during on-road cycling.\",\n",
                "             \"The purpose of the study was to determine the muscle activity of cyclists, riding on three different bicycle design concepts: RF, SU and SP bicycles using bilateral sEMG.\",\n",
                "             \"The main objective of the study was to evaluate bicycle design using sEMG, by examining whether differences in muscle activity existed in cyclists whilst performing a continuous ride on RF, SU and SP bicycle designs.\",\n",
                "             \"It is evident from the results of this study that each bicycle design exhibited a difference in muscle activity of the muscle groups chosen.\",\n",
                "             \"Hence RMS and MPF of the sEMG signal were used as the fatigue indicator parameters in this study.\"\n",
                "            ]\n",
                "context = \"sEMG signals were acquired bilaterally from extensor carpi radialis (ECR), trapezius medial (TM), latissimus dorsi medial (LDM) and erector spinae (ES), during 30\\xa0min of cycling on each bicycle and after cycling. [SEP] The objective of this study was to investigate the muscle activity during cycling on three different bicycle designs, i.e., rigid frame (RF), suspension (SU) and sports (SP) using surface electromyography (sEMG). [SEP] Hence, sEMG activity from those muscle groups (extensor carpi radialis (ECR), trapezius medial (TM), latissimus dorsi medial (LDM) and erector spinae (ES)) was bilaterally recorded as shown in Fig.\\xa02 \\xa0sEMG signals were recorded using Myomonitor® Wireless EMG Systems (Delsys Inc., Chicago) with single differential electrode configuration. [SEP] The main objective of the study was to evaluate bicycle design using sEMG, by examining whether differences in muscle activity existed in cyclists whilst performing a continuous ride on RF, SU and SP bicycle designs. [SEP] Twelve male volunteers participated in this study after they were briefed extensively on the scope and objectives of this study. [SEP] The study was administered at the end of each experiment so that the participant could grade the perceived comfort or pain they experienced immediately after 30\\xa0min of cycling. [SEP] Hence RMS and MPF of the sEMG signal were used as the fatigue indicator parameters in this study. [SEP] sEMG signals were recorded to determine the activity levels of the muscle groups during riding. [SEP] Houtz and Fisher (1959) investigated muscle's activity patterns on a stationary bicycle using surface electromyography (sEMG). [SEP] In this study, an RMS change during MVC was computed as the difference in RMS value before and after riding. [SEP] Bicycle design Surface electromyography (sEMG) Posture RGB pain scale Muscle fatigue The authors would like to acknowledge all the members of Rehabilitation Bioengineering Group (RBG) at IIT Madras. [SEP] In the MVC study, statistical tests were able to significantly differentiate (p\\xa0<\\xa00.05) the sEMG activity of right LDM and right ES muscle groups in SP bicycle when compared to RF and SU bicycles. [SEP] The purpose of the study was to determine the muscle activity of cyclists, riding on three different bicycle design concepts: RF, SU and SP bicycles using bilateral sEMG. [SEP] This study used percentage deviation in MPF and RMS to significantly differentiate the muscle activity before and after 30\\xa0min of cycling; slope of MPF and RMS to significantly evaluate the fatigue rate during on-road cycling on the three different bicycle designs.\"\n",
                "\n",
                "h.get_highlights(sentences=sentences,\n",
                "                 context=context)\n",
                "# real highlights:\n",
                "# Evaluation of on-road bicycle design was performed using surface EMG on 12 male volunteers.\n",
                "# Three types of bicycle design, i.e., rigid frame, suspension and sports were studied.\n",
                "# Bicycles with suspension were found to have lesser rider muscle fatigue."
            ]
        },
        {
            "cell_type": "markdown",
            "metadata": {},
            "source": [
                "# Test on a dataset"
            ]
        },
        {
            "cell_type": "code",
            "execution_count": null,
            "metadata": {
                "execution": {
                    "iopub.execute_input": "2023-02-13T13:05:57.853880Z",
                    "iopub.status.busy": "2023-02-13T13:05:57.853518Z",
                    "iopub.status.idle": "2023-02-13T13:06:00.394023Z",
                    "shell.execute_reply": "2023-02-13T13:06:00.393041Z",
                    "shell.execute_reply.started": "2023-02-13T13:05:57.853846Z"
                },
                "trusted": true
            },
            "outputs": [],
            "source": [
                "from Highlighter import Highlighter\n",
                "from utils.datasets import PCEDataset\n",
                "\n",
                "h = Highlighter(model_name=\"pietrocagnasso/thext-pce-cs\")"
            ]
        },
        {
            "cell_type": "code",
            "execution_count": null,
            "metadata": {
                "execution": {
                    "iopub.execute_input": "2023-02-13T13:06:04.150121Z",
                    "iopub.status.busy": "2023-02-13T13:06:04.149759Z",
                    "iopub.status.idle": "2023-02-13T13:13:28.196739Z",
                    "shell.execute_reply": "2023-02-13T13:13:28.195838Z",
                    "shell.execute_reply.started": "2023-02-13T13:06:04.150088Z"
                },
                "trusted": true
            },
            "outputs": [
                {
                    "name": "stdout",
                    "output_type": "stream",
                    "text": [
                        "--- EXTRACTING HIGHLIGHTS ---\n"
                    ]
                },
                {
                    "name": "stderr",
                    "output_type": "stream",
                    "text": [
                        "100%|██████████| 2930/2930 [07:23<00:00,  6.61it/s]\n"
                    ]
                },
                {
                    "name": "stdout",
                    "output_type": "stream",
                    "text": [
                        "--- EVALUATING ---\n"
                    ]
                },
                {
                    "data": {
                        "text/plain": [
                            "{'R1@3hl': 0.37378837641693885,\n",
                            " 'R2@3hl': 0.16131118734387584,\n",
                            " 'RL@3hl': 0.34430733838055017}"
                        ]
                    },
                    "execution_count": 15,
                    "metadata": {},
                    "output_type": "execute_result"
                }
            ],
            "source": [
                "h.evaluate_on_dataset(file=\"/kaggle/input/pubsummdatasets/cs_test_best.pt\",\n",
                "                      contributions_file=\"/kaggle/input/pubsummprepared/contributions.json\",\n",
                "                      distributions_file=\"/kaggle/input/pubsummprepared/distributions.json\",\n",
                "                      topic=\"CS\",\n",
                "                      policy=\"best\",\n",
                "                      seed=0)"
            ]
        },
        {
            "cell_type": "code",
            "execution_count": null,
            "metadata": {
                "execution": {
                    "iopub.execute_input": "2023-02-13T12:52:16.337917Z",
                    "iopub.status.busy": "2023-02-13T12:52:16.337068Z",
                    "iopub.status.idle": "2023-02-13T12:52:24.647211Z",
                    "shell.execute_reply": "2023-02-13T12:52:24.646031Z",
                    "shell.execute_reply.started": "2023-02-13T12:52:16.337876Z"
                },
                "trusted": true
            },
            "outputs": [
                {
                    "name": "stdout",
                    "output_type": "stream",
                    "text": [
                        "--- EXTRACTING HIGHLIGHTS ---\n"
                    ]
                },
                {
                    "name": "stderr",
                    "output_type": "stream",
                    "text": [
                        "100%|██████████| 66/66 [00:07<00:00,  8.44it/s]\n"
                    ]
                },
                {
                    "name": "stdout",
                    "output_type": "stream",
                    "text": [
                        "--- EVALUATING ---\n"
                    ]
                },
                {
                    "data": {
                        "text/plain": [
                            "{'R1@3hl': 0.28502172260033964,\n",
                            " 'R2@3hl': 0.08634107410836823,\n",
                            " 'RL@3hl': 0.2633398527290944}"
                        ]
                    },
                    "execution_count": 10,
                    "metadata": {},
                    "output_type": "execute_result"
                }
            ],
            "source": [
                "h.evaluate_on_dataset(file=\"/kaggle/input/pubsummprepared/ai_test.json\",\n",
                "                      contributions_file=\"/kaggle/input/pubsummprepared/contributions.json\",\n",
                "                      distributions_file=\"/kaggle/input/pubsummprepared/distributions.json\",\n",
                "                      topic=\"AI\",\n",
                "                      direct=True)"
            ]
        },
        {
            "cell_type": "code",
            "execution_count": null,
            "metadata": {},
            "outputs": [],
            "source": []
        }
    ],
    "metadata": {
        "kernelspec": {
            "display_name": "Python 3",
            "language": "python",
            "name": "python3"
        },
        "language_info": {
            "codemirror_mode": {
                "name": "ipython",
                "version": 3
            },
            "file_extension": ".py",
            "mimetype": "text/x-python",
            "name": "python",
            "nbconvert_exporter": "python",
            "pygments_lexer": "ipython3",
            "version": "3.9.5"
        },
        "vscode": {
            "interpreter": {
                "hash": "6e5ce0149aa79b576395090b78d48790651997c4a4c6fd5d6df541cddfa1c726"
            }
        }
    },
    "nbformat": 4,
    "nbformat_minor": 4
}
